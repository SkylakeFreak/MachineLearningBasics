{
 "cells": [
  {
   "cell_type": "raw",
   "id": "e32caf47",
   "metadata": {},
   "source": [
    "Differentiation in Python "
   ]
  },
  {
   "cell_type": "raw",
   "id": "a360841c",
   "metadata": {},
   "source": [
    "Importing different modules in python"
   ]
  },
  {
   "cell_type": "code",
   "execution_count": 1,
   "id": "dbb21a61",
   "metadata": {},
   "outputs": [],
   "source": [
    "import sympy as smp"
   ]
  },
  {
   "cell_type": "code",
   "execution_count": 2,
   "id": "a76d49a7",
   "metadata": {},
   "outputs": [],
   "source": [
    "import numpy as np"
   ]
  },
  {
   "cell_type": "code",
   "execution_count": 3,
   "id": "a2569a25",
   "metadata": {},
   "outputs": [],
   "source": [
    "import scipy as sp"
   ]
  },
  {
   "cell_type": "code",
   "execution_count": 4,
   "id": "19d36464",
   "metadata": {},
   "outputs": [],
   "source": [
    "import matplotlib.pyplot as plt"
   ]
  },
  {
   "cell_type": "code",
   "execution_count": 5,
   "id": "de5a9430",
   "metadata": {},
   "outputs": [],
   "source": [
    "from scipy.misc import derivative"
   ]
  },
  {
   "cell_type": "code",
   "execution_count": 6,
   "id": "bec28151",
   "metadata": {},
   "outputs": [],
   "source": [
    "#Symbolic case"
   ]
  },
  {
   "cell_type": "code",
   "execution_count": 7,
   "id": "42400ff2",
   "metadata": {},
   "outputs": [],
   "source": [
    "x,a,b,c=smp.symbols('x a b c',real=True)\n"
   ]
  },
  {
   "cell_type": "code",
   "execution_count": 8,
   "id": "a8e8d775",
   "metadata": {},
   "outputs": [],
   "source": [
    "#defining equation in to variable"
   ]
  },
  {
   "cell_type": "code",
   "execution_count": 9,
   "id": "5cb99fb8",
   "metadata": {},
   "outputs": [],
   "source": [
    "f=smp.exp(-a*smp.sin(x**2))*smp.sin(b**x)*smp.log(c*smp.sin(x)**2/ x)"
   ]
  },
  {
   "cell_type": "code",
   "execution_count": 10,
   "id": "c92f459f",
   "metadata": {},
   "outputs": [],
   "source": [
    "#defining df/dx"
   ]
  },
  {
   "cell_type": "code",
   "execution_count": 11,
   "id": "4b3c09c6",
   "metadata": {},
   "outputs": [],
   "source": [
    "dfdx=smp.diff(f,x)"
   ]
  },
  {
   "cell_type": "code",
   "execution_count": 12,
   "id": "64c1f511",
   "metadata": {
    "scrolled": true
   },
   "outputs": [
    {
     "data": {
      "text/latex": [
       "$\\displaystyle - 2 a x e^{- a \\sin{\\left(x^{2} \\right)}} \\log{\\left(\\frac{c \\sin^{2}{\\left(x \\right)}}{x} \\right)} \\sin{\\left(b^{x} \\right)} \\cos{\\left(x^{2} \\right)} + b^{x} e^{- a \\sin{\\left(x^{2} \\right)}} \\log{\\left(b \\right)} \\log{\\left(\\frac{c \\sin^{2}{\\left(x \\right)}}{x} \\right)} \\cos{\\left(b^{x} \\right)} + \\frac{x \\left(\\frac{2 c \\sin{\\left(x \\right)} \\cos{\\left(x \\right)}}{x} - \\frac{c \\sin^{2}{\\left(x \\right)}}{x^{2}}\\right) e^{- a \\sin{\\left(x^{2} \\right)}} \\sin{\\left(b^{x} \\right)}}{c \\sin^{2}{\\left(x \\right)}}$"
      ],
      "text/plain": [
       "-2*a*x*exp(-a*sin(x**2))*log(c*sin(x)**2/x)*sin(b**x)*cos(x**2) + b**x*exp(-a*sin(x**2))*log(b)*log(c*sin(x)**2/x)*cos(b**x) + x*(2*c*sin(x)*cos(x)/x - c*sin(x)**2/x**2)*exp(-a*sin(x**2))*sin(b**x)/(c*sin(x)**2)"
      ]
     },
     "execution_count": 12,
     "metadata": {},
     "output_type": "execute_result"
    }
   ],
   "source": [
    "dfdx"
   ]
  },
  {
   "cell_type": "code",
   "execution_count": 13,
   "id": "99ea7132",
   "metadata": {},
   "outputs": [],
   "source": [
    "#answer"
   ]
  },
  {
   "cell_type": "raw",
   "id": "d8335098",
   "metadata": {},
   "source": [
    "−2𝑎𝑥𝑒−𝑎sin(𝑥2)log(𝑐sin2(𝑥)𝑥)sin(𝑏𝑥)cos(𝑥2)+𝑏𝑥𝑒−𝑎sin(𝑥2)log(𝑏)log(𝑐sin2(𝑥)𝑥)cos(𝑏𝑥)+𝑥(2𝑐sin(𝑥)cos(𝑥)𝑥−𝑐sin2(𝑥)𝑥2)𝑒−𝑎sin(𝑥2)sin(𝑏𝑥)𝑐sin2(𝑥)"
   ]
  },
  {
   "cell_type": "code",
   "execution_count": 14,
   "id": "dec9b37f",
   "metadata": {},
   "outputs": [],
   "source": [
    "#finding differentation for nth time"
   ]
  },
  {
   "cell_type": "code",
   "execution_count": 15,
   "id": "162c24e2",
   "metadata": {},
   "outputs": [],
   "source": [
    "#for example we will here find differentation of function for 4th time"
   ]
  },
  {
   "cell_type": "code",
   "execution_count": 16,
   "id": "c42985ce",
   "metadata": {},
   "outputs": [],
   "source": [
    "d4fdx4=smp.diff(f,x,4)"
   ]
  },
  {
   "cell_type": "code",
   "execution_count": 17,
   "id": "930aa61f",
   "metadata": {},
   "outputs": [
    {
     "data": {
      "text/latex": [
       "$\\displaystyle \\left(\\frac{24 a b^{x} x \\left(b^{x} \\sin{\\left(b^{x} \\right)} - \\cos{\\left(b^{x} \\right)}\\right) \\left(2 \\cos{\\left(x \\right)} - \\frac{\\sin{\\left(x \\right)}}{x}\\right) \\log{\\left(b \\right)}^{2} \\cos{\\left(x^{2} \\right)}}{\\sin{\\left(x \\right)}} + 8 a b^{x} x \\left(b^{2 x} \\cos{\\left(b^{x} \\right)} + 3 b^{x} \\sin{\\left(b^{x} \\right)} - \\cos{\\left(b^{x} \\right)}\\right) \\log{\\left(b \\right)}^{3} \\log{\\left(\\frac{c \\sin^{2}{\\left(x \\right)}}{x} \\right)} \\cos{\\left(x^{2} \\right)} + \\frac{24 a b^{x} x \\left(\\frac{2 \\cdot \\left(2 \\cos{\\left(x \\right)} - \\frac{\\sin{\\left(x \\right)}}{x}\\right) \\cos{\\left(x \\right)}}{\\sin{\\left(x \\right)}} + \\frac{2 \\left(\\sin^{2}{\\left(x \\right)} - \\cos^{2}{\\left(x \\right)} + \\frac{2 \\sin{\\left(x \\right)} \\cos{\\left(x \\right)}}{x} - \\frac{\\sin^{2}{\\left(x \\right)}}{x^{2}}\\right)}{\\sin{\\left(x \\right)}} - \\frac{2 \\cos{\\left(x \\right)} - \\frac{\\sin{\\left(x \\right)}}{x}}{x}\\right) \\log{\\left(b \\right)} \\cos{\\left(b^{x} \\right)} \\cos{\\left(x^{2} \\right)}}{\\sin{\\left(x \\right)}} + 16 a b^{x} x \\left(- 2 a^{2} x^{2} \\cos^{3}{\\left(x^{2} \\right)} - 6 a x^{2} \\sin{\\left(x^{2} \\right)} \\cos{\\left(x^{2} \\right)} + 3 a \\cos^{2}{\\left(x^{2} \\right)} + 2 x^{2} \\cos{\\left(x^{2} \\right)} + 3 \\sin{\\left(x^{2} \\right)}\\right) \\log{\\left(b \\right)} \\log{\\left(\\frac{c \\sin^{2}{\\left(x \\right)}}{x} \\right)} \\cos{\\left(b^{x} \\right)} - 12 a b^{x} \\left(b^{x} \\sin{\\left(b^{x} \\right)} - \\cos{\\left(b^{x} \\right)}\\right) \\left(2 a x^{2} \\cos^{2}{\\left(x^{2} \\right)} + 2 x^{2} \\sin{\\left(x^{2} \\right)} - \\cos{\\left(x^{2} \\right)}\\right) \\log{\\left(b \\right)}^{2} \\log{\\left(\\frac{c \\sin^{2}{\\left(x \\right)}}{x} \\right)} + \\frac{24 a b^{x} \\left(2 \\cos{\\left(x \\right)} - \\frac{\\sin{\\left(x \\right)}}{x}\\right) \\left(2 a x^{2} \\cos^{2}{\\left(x^{2} \\right)} + 2 x^{2} \\sin{\\left(x^{2} \\right)} - \\cos{\\left(x^{2} \\right)}\\right) \\log{\\left(b \\right)} \\cos{\\left(b^{x} \\right)}}{\\sin{\\left(x \\right)}} + \\frac{16 a x \\left(2 \\cos{\\left(x \\right)} - \\frac{\\sin{\\left(x \\right)}}{x}\\right) \\left(- 2 a^{2} x^{2} \\cos^{3}{\\left(x^{2} \\right)} - 6 a x^{2} \\sin{\\left(x^{2} \\right)} \\cos{\\left(x^{2} \\right)} + 3 a \\cos^{2}{\\left(x^{2} \\right)} + 2 x^{2} \\cos{\\left(x^{2} \\right)} + 3 \\sin{\\left(x^{2} \\right)}\\right) \\sin{\\left(b^{x} \\right)}}{\\sin{\\left(x \\right)}} + \\frac{16 a x \\left(- \\frac{3 \\cdot \\left(2 \\cos{\\left(x \\right)} - \\frac{\\sin{\\left(x \\right)}}{x}\\right) \\cos^{2}{\\left(x \\right)}}{\\sin^{2}{\\left(x \\right)}} - \\frac{4 \\left(\\sin^{2}{\\left(x \\right)} - \\cos^{2}{\\left(x \\right)} + \\frac{2 \\sin{\\left(x \\right)} \\cos{\\left(x \\right)}}{x} - \\frac{\\sin^{2}{\\left(x \\right)}}{x^{2}}\\right) \\cos{\\left(x \\right)}}{\\sin^{2}{\\left(x \\right)}} + \\frac{4 \\sin{\\left(x \\right)} \\cos{\\left(x \\right)} - \\frac{3 \\sin^{2}{\\left(x \\right)}}{x} + \\frac{3 \\cos^{2}{\\left(x \\right)}}{x} - \\frac{6 \\sin{\\left(x \\right)} \\cos{\\left(x \\right)}}{x^{2}} + \\frac{3 \\sin^{2}{\\left(x \\right)}}{x^{3}}}{\\sin{\\left(x \\right)}} - 2 \\cos{\\left(x \\right)} + \\frac{2 \\cdot \\left(2 \\cos{\\left(x \\right)} - \\frac{\\sin{\\left(x \\right)}}{x}\\right) \\cos{\\left(x \\right)}}{x \\sin{\\left(x \\right)}} + \\frac{2 \\left(\\sin^{2}{\\left(x \\right)} - \\cos^{2}{\\left(x \\right)} + \\frac{2 \\sin{\\left(x \\right)} \\cos{\\left(x \\right)}}{x} - \\frac{\\sin^{2}{\\left(x \\right)}}{x^{2}}\\right)}{x \\sin{\\left(x \\right)}} + \\frac{\\sin{\\left(x \\right)}}{x}\\right) \\sin{\\left(b^{x} \\right)} \\cos{\\left(x^{2} \\right)}}{\\sin{\\left(x \\right)}} - \\frac{12 a \\left(2 a x^{2} \\cos^{2}{\\left(x^{2} \\right)} + 2 x^{2} \\sin{\\left(x^{2} \\right)} - \\cos{\\left(x^{2} \\right)}\\right) \\left(\\frac{2 \\cdot \\left(2 \\cos{\\left(x \\right)} - \\frac{\\sin{\\left(x \\right)}}{x}\\right) \\cos{\\left(x \\right)}}{\\sin{\\left(x \\right)}} + \\frac{2 \\left(\\sin^{2}{\\left(x \\right)} - \\cos^{2}{\\left(x \\right)} + \\frac{2 \\sin{\\left(x \\right)} \\cos{\\left(x \\right)}}{x} - \\frac{\\sin^{2}{\\left(x \\right)}}{x^{2}}\\right)}{\\sin{\\left(x \\right)}} - \\frac{2 \\cos{\\left(x \\right)} - \\frac{\\sin{\\left(x \\right)}}{x}}{x}\\right) \\sin{\\left(b^{x} \\right)}}{\\sin{\\left(x \\right)}} + 4 a \\left(4 a^{3} x^{4} \\cos^{4}{\\left(x^{2} \\right)} + 24 a^{2} x^{4} \\sin{\\left(x^{2} \\right)} \\cos^{2}{\\left(x^{2} \\right)} - 12 a^{2} x^{2} \\cos^{3}{\\left(x^{2} \\right)} + 12 a x^{4} \\sin^{2}{\\left(x^{2} \\right)} - 16 a x^{4} \\cos^{2}{\\left(x^{2} \\right)} - 36 a x^{2} \\sin{\\left(x^{2} \\right)} \\cos{\\left(x^{2} \\right)} + 3 a \\cos^{2}{\\left(x^{2} \\right)} - 4 x^{4} \\sin{\\left(x^{2} \\right)} + 12 x^{2} \\cos{\\left(x^{2} \\right)} + 3 \\sin{\\left(x^{2} \\right)}\\right) \\log{\\left(\\frac{c \\sin^{2}{\\left(x \\right)}}{x} \\right)} \\sin{\\left(b^{x} \\right)} + \\frac{6 b^{x} \\left(b^{x} \\sin{\\left(b^{x} \\right)} - \\cos{\\left(b^{x} \\right)}\\right) \\left(\\frac{2 \\cdot \\left(2 \\cos{\\left(x \\right)} - \\frac{\\sin{\\left(x \\right)}}{x}\\right) \\cos{\\left(x \\right)}}{\\sin{\\left(x \\right)}} + \\frac{2 \\left(\\sin^{2}{\\left(x \\right)} - \\cos^{2}{\\left(x \\right)} + \\frac{2 \\sin{\\left(x \\right)} \\cos{\\left(x \\right)}}{x} - \\frac{\\sin^{2}{\\left(x \\right)}}{x^{2}}\\right)}{\\sin{\\left(x \\right)}} - \\frac{2 \\cos{\\left(x \\right)} - \\frac{\\sin{\\left(x \\right)}}{x}}{x}\\right) \\log{\\left(b \\right)}^{2}}{\\sin{\\left(x \\right)}} - \\frac{4 b^{x} \\left(2 \\cos{\\left(x \\right)} - \\frac{\\sin{\\left(x \\right)}}{x}\\right) \\left(b^{2 x} \\cos{\\left(b^{x} \\right)} + 3 b^{x} \\sin{\\left(b^{x} \\right)} - \\cos{\\left(b^{x} \\right)}\\right) \\log{\\left(b \\right)}^{3}}{\\sin{\\left(x \\right)}} + b^{x} \\left(b^{3 x} \\sin{\\left(b^{x} \\right)} - 6 b^{2 x} \\cos{\\left(b^{x} \\right)} - 7 b^{x} \\sin{\\left(b^{x} \\right)} + \\cos{\\left(b^{x} \\right)}\\right) \\log{\\left(b \\right)}^{4} \\log{\\left(\\frac{c \\sin^{2}{\\left(x \\right)}}{x} \\right)} - \\frac{8 b^{x} \\left(- \\frac{3 \\cdot \\left(2 \\cos{\\left(x \\right)} - \\frac{\\sin{\\left(x \\right)}}{x}\\right) \\cos^{2}{\\left(x \\right)}}{\\sin^{2}{\\left(x \\right)}} - \\frac{4 \\left(\\sin^{2}{\\left(x \\right)} - \\cos^{2}{\\left(x \\right)} + \\frac{2 \\sin{\\left(x \\right)} \\cos{\\left(x \\right)}}{x} - \\frac{\\sin^{2}{\\left(x \\right)}}{x^{2}}\\right) \\cos{\\left(x \\right)}}{\\sin^{2}{\\left(x \\right)}} + \\frac{4 \\sin{\\left(x \\right)} \\cos{\\left(x \\right)} - \\frac{3 \\sin^{2}{\\left(x \\right)}}{x} + \\frac{3 \\cos^{2}{\\left(x \\right)}}{x} - \\frac{6 \\sin{\\left(x \\right)} \\cos{\\left(x \\right)}}{x^{2}} + \\frac{3 \\sin^{2}{\\left(x \\right)}}{x^{3}}}{\\sin{\\left(x \\right)}} - 2 \\cos{\\left(x \\right)} + \\frac{2 \\cdot \\left(2 \\cos{\\left(x \\right)} - \\frac{\\sin{\\left(x \\right)}}{x}\\right) \\cos{\\left(x \\right)}}{x \\sin{\\left(x \\right)}} + \\frac{2 \\left(\\sin^{2}{\\left(x \\right)} - \\cos^{2}{\\left(x \\right)} + \\frac{2 \\sin{\\left(x \\right)} \\cos{\\left(x \\right)}}{x} - \\frac{\\sin^{2}{\\left(x \\right)}}{x^{2}}\\right)}{x \\sin{\\left(x \\right)}} + \\frac{\\sin{\\left(x \\right)}}{x}\\right) \\log{\\left(b \\right)} \\cos{\\left(b^{x} \\right)}}{\\sin{\\left(x \\right)}} - \\frac{2 \\cdot \\left(\\frac{8 \\cdot \\left(2 \\cos{\\left(x \\right)} - \\frac{\\sin{\\left(x \\right)}}{x}\\right) \\cos{\\left(x \\right)}}{\\sin{\\left(x \\right)}} + \\frac{12 \\cdot \\left(2 \\cos{\\left(x \\right)} - \\frac{\\sin{\\left(x \\right)}}{x}\\right) \\cos^{3}{\\left(x \\right)}}{\\sin^{3}{\\left(x \\right)}} + \\frac{6 \\left(\\sin^{2}{\\left(x \\right)} - \\cos^{2}{\\left(x \\right)} + \\frac{2 \\sin{\\left(x \\right)} \\cos{\\left(x \\right)}}{x} - \\frac{\\sin^{2}{\\left(x \\right)}}{x^{2}}\\right)}{\\sin{\\left(x \\right)}} + \\frac{18 \\left(\\sin^{2}{\\left(x \\right)} - \\cos^{2}{\\left(x \\right)} + \\frac{2 \\sin{\\left(x \\right)} \\cos{\\left(x \\right)}}{x} - \\frac{\\sin^{2}{\\left(x \\right)}}{x^{2}}\\right) \\cos^{2}{\\left(x \\right)}}{\\sin^{3}{\\left(x \\right)}} - \\frac{6 \\cdot \\left(4 \\sin{\\left(x \\right)} \\cos{\\left(x \\right)} - \\frac{3 \\sin^{2}{\\left(x \\right)}}{x} + \\frac{3 \\cos^{2}{\\left(x \\right)}}{x} - \\frac{6 \\sin{\\left(x \\right)} \\cos{\\left(x \\right)}}{x^{2}} + \\frac{3 \\sin^{2}{\\left(x \\right)}}{x^{3}}\\right) \\cos{\\left(x \\right)}}{\\sin^{2}{\\left(x \\right)}} - \\frac{4 \\left(\\sin^{2}{\\left(x \\right)} - \\cos^{2}{\\left(x \\right)} + \\frac{4 \\sin{\\left(x \\right)} \\cos{\\left(x \\right)}}{x} - \\frac{3 \\sin^{2}{\\left(x \\right)}}{x^{2}} + \\frac{3 \\cos^{2}{\\left(x \\right)}}{x^{2}} - \\frac{6 \\sin{\\left(x \\right)} \\cos{\\left(x \\right)}}{x^{3}} + \\frac{3 \\sin^{2}{\\left(x \\right)}}{x^{4}}\\right)}{\\sin{\\left(x \\right)}} - \\frac{3 \\cdot \\left(2 \\cos{\\left(x \\right)} - \\frac{\\sin{\\left(x \\right)}}{x}\\right)}{x} - \\frac{9 \\cdot \\left(2 \\cos{\\left(x \\right)} - \\frac{\\sin{\\left(x \\right)}}{x}\\right) \\cos^{2}{\\left(x \\right)}}{x \\sin^{2}{\\left(x \\right)}} - \\frac{12 \\left(\\sin^{2}{\\left(x \\right)} - \\cos^{2}{\\left(x \\right)} + \\frac{2 \\sin{\\left(x \\right)} \\cos{\\left(x \\right)}}{x} - \\frac{\\sin^{2}{\\left(x \\right)}}{x^{2}}\\right) \\cos{\\left(x \\right)}}{x \\sin^{2}{\\left(x \\right)}} + \\frac{3 \\cdot \\left(4 \\sin{\\left(x \\right)} \\cos{\\left(x \\right)} - \\frac{3 \\sin^{2}{\\left(x \\right)}}{x} + \\frac{3 \\cos^{2}{\\left(x \\right)}}{x} - \\frac{6 \\sin{\\left(x \\right)} \\cos{\\left(x \\right)}}{x^{2}} + \\frac{3 \\sin^{2}{\\left(x \\right)}}{x^{3}}\\right)}{x \\sin{\\left(x \\right)}}\\right) \\sin{\\left(b^{x} \\right)}}{\\sin{\\left(x \\right)}}\\right) e^{- a \\sin{\\left(x^{2} \\right)}}$"
      ],
      "text/plain": [
       "(24*a*b**x*x*(b**x*sin(b**x) - cos(b**x))*(2*cos(x) - sin(x)/x)*log(b)**2*cos(x**2)/sin(x) + 8*a*b**x*x*(b**(2*x)*cos(b**x) + 3*b**x*sin(b**x) - cos(b**x))*log(b)**3*log(c*sin(x)**2/x)*cos(x**2) + 24*a*b**x*x*(2*(2*cos(x) - sin(x)/x)*cos(x)/sin(x) + 2*(sin(x)**2 - cos(x)**2 + 2*sin(x)*cos(x)/x - sin(x)**2/x**2)/sin(x) - (2*cos(x) - sin(x)/x)/x)*log(b)*cos(b**x)*cos(x**2)/sin(x) + 16*a*b**x*x*(-2*a**2*x**2*cos(x**2)**3 - 6*a*x**2*sin(x**2)*cos(x**2) + 3*a*cos(x**2)**2 + 2*x**2*cos(x**2) + 3*sin(x**2))*log(b)*log(c*sin(x)**2/x)*cos(b**x) - 12*a*b**x*(b**x*sin(b**x) - cos(b**x))*(2*a*x**2*cos(x**2)**2 + 2*x**2*sin(x**2) - cos(x**2))*log(b)**2*log(c*sin(x)**2/x) + 24*a*b**x*(2*cos(x) - sin(x)/x)*(2*a*x**2*cos(x**2)**2 + 2*x**2*sin(x**2) - cos(x**2))*log(b)*cos(b**x)/sin(x) + 16*a*x*(2*cos(x) - sin(x)/x)*(-2*a**2*x**2*cos(x**2)**3 - 6*a*x**2*sin(x**2)*cos(x**2) + 3*a*cos(x**2)**2 + 2*x**2*cos(x**2) + 3*sin(x**2))*sin(b**x)/sin(x) + 16*a*x*(-3*(2*cos(x) - sin(x)/x)*cos(x)**2/sin(x)**2 - 4*(sin(x)**2 - cos(x)**2 + 2*sin(x)*cos(x)/x - sin(x)**2/x**2)*cos(x)/sin(x)**2 + (4*sin(x)*cos(x) - 3*sin(x)**2/x + 3*cos(x)**2/x - 6*sin(x)*cos(x)/x**2 + 3*sin(x)**2/x**3)/sin(x) - 2*cos(x) + 2*(2*cos(x) - sin(x)/x)*cos(x)/(x*sin(x)) + 2*(sin(x)**2 - cos(x)**2 + 2*sin(x)*cos(x)/x - sin(x)**2/x**2)/(x*sin(x)) + sin(x)/x)*sin(b**x)*cos(x**2)/sin(x) - 12*a*(2*a*x**2*cos(x**2)**2 + 2*x**2*sin(x**2) - cos(x**2))*(2*(2*cos(x) - sin(x)/x)*cos(x)/sin(x) + 2*(sin(x)**2 - cos(x)**2 + 2*sin(x)*cos(x)/x - sin(x)**2/x**2)/sin(x) - (2*cos(x) - sin(x)/x)/x)*sin(b**x)/sin(x) + 4*a*(4*a**3*x**4*cos(x**2)**4 + 24*a**2*x**4*sin(x**2)*cos(x**2)**2 - 12*a**2*x**2*cos(x**2)**3 + 12*a*x**4*sin(x**2)**2 - 16*a*x**4*cos(x**2)**2 - 36*a*x**2*sin(x**2)*cos(x**2) + 3*a*cos(x**2)**2 - 4*x**4*sin(x**2) + 12*x**2*cos(x**2) + 3*sin(x**2))*log(c*sin(x)**2/x)*sin(b**x) + 6*b**x*(b**x*sin(b**x) - cos(b**x))*(2*(2*cos(x) - sin(x)/x)*cos(x)/sin(x) + 2*(sin(x)**2 - cos(x)**2 + 2*sin(x)*cos(x)/x - sin(x)**2/x**2)/sin(x) - (2*cos(x) - sin(x)/x)/x)*log(b)**2/sin(x) - 4*b**x*(2*cos(x) - sin(x)/x)*(b**(2*x)*cos(b**x) + 3*b**x*sin(b**x) - cos(b**x))*log(b)**3/sin(x) + b**x*(b**(3*x)*sin(b**x) - 6*b**(2*x)*cos(b**x) - 7*b**x*sin(b**x) + cos(b**x))*log(b)**4*log(c*sin(x)**2/x) - 8*b**x*(-3*(2*cos(x) - sin(x)/x)*cos(x)**2/sin(x)**2 - 4*(sin(x)**2 - cos(x)**2 + 2*sin(x)*cos(x)/x - sin(x)**2/x**2)*cos(x)/sin(x)**2 + (4*sin(x)*cos(x) - 3*sin(x)**2/x + 3*cos(x)**2/x - 6*sin(x)*cos(x)/x**2 + 3*sin(x)**2/x**3)/sin(x) - 2*cos(x) + 2*(2*cos(x) - sin(x)/x)*cos(x)/(x*sin(x)) + 2*(sin(x)**2 - cos(x)**2 + 2*sin(x)*cos(x)/x - sin(x)**2/x**2)/(x*sin(x)) + sin(x)/x)*log(b)*cos(b**x)/sin(x) - 2*(8*(2*cos(x) - sin(x)/x)*cos(x)/sin(x) + 12*(2*cos(x) - sin(x)/x)*cos(x)**3/sin(x)**3 + 6*(sin(x)**2 - cos(x)**2 + 2*sin(x)*cos(x)/x - sin(x)**2/x**2)/sin(x) + 18*(sin(x)**2 - cos(x)**2 + 2*sin(x)*cos(x)/x - sin(x)**2/x**2)*cos(x)**2/sin(x)**3 - 6*(4*sin(x)*cos(x) - 3*sin(x)**2/x + 3*cos(x)**2/x - 6*sin(x)*cos(x)/x**2 + 3*sin(x)**2/x**3)*cos(x)/sin(x)**2 - 4*(sin(x)**2 - cos(x)**2 + 4*sin(x)*cos(x)/x - 3*sin(x)**2/x**2 + 3*cos(x)**2/x**2 - 6*sin(x)*cos(x)/x**3 + 3*sin(x)**2/x**4)/sin(x) - 3*(2*cos(x) - sin(x)/x)/x - 9*(2*cos(x) - sin(x)/x)*cos(x)**2/(x*sin(x)**2) - 12*(sin(x)**2 - cos(x)**2 + 2*sin(x)*cos(x)/x - sin(x)**2/x**2)*cos(x)/(x*sin(x)**2) + 3*(4*sin(x)*cos(x) - 3*sin(x)**2/x + 3*cos(x)**2/x - 6*sin(x)*cos(x)/x**2 + 3*sin(x)**2/x**3)/(x*sin(x)))*sin(b**x)/sin(x))*exp(-a*sin(x**2))"
      ]
     },
     "execution_count": 17,
     "metadata": {},
     "output_type": "execute_result"
    }
   ],
   "source": [
    "d4fdx4"
   ]
  },
  {
   "cell_type": "code",
   "execution_count": 18,
   "id": "fcc00250",
   "metadata": {},
   "outputs": [],
   "source": [
    "#output"
   ]
  },
  {
   "cell_type": "raw",
   "id": "8bb0831a",
   "metadata": {},
   "source": [
    "24𝑎𝑏𝑥𝑥(𝑏𝑥sin(𝑏𝑥)−cos(𝑏𝑥))(2cos(𝑥)−sin(𝑥)𝑥)log(𝑏)2cos(𝑥2)sin(𝑥)+8𝑎𝑏𝑥𝑥(𝑏2𝑥cos(𝑏𝑥)+3𝑏𝑥sin(𝑏𝑥)−cos(𝑏𝑥))log(𝑏)3log(𝑐sin2(𝑥)𝑥)cos(𝑥2)+24𝑎𝑏𝑥𝑥2⋅(2cos(𝑥)−sin(𝑥)𝑥)cos(𝑥)sin(𝑥)+2(sin2(𝑥)−cos2(𝑥)+2sin(𝑥)cos(𝑥)𝑥−sin2(𝑥)𝑥2)sin(𝑥)−2cos(𝑥)−sin(𝑥)𝑥𝑥log(𝑏)cos(𝑏𝑥)cos(𝑥2)sin(𝑥)+16𝑎𝑏𝑥𝑥(−2𝑎2𝑥2cos3(𝑥2)−6𝑎𝑥2sin(𝑥2)cos(𝑥2)+3𝑎cos2(𝑥2)+2𝑥2cos(𝑥2)+3sin(𝑥2))log(𝑏)log(𝑐sin2(𝑥)𝑥)cos(𝑏𝑥)−12𝑎𝑏𝑥(𝑏𝑥sin(𝑏𝑥)−cos(𝑏𝑥))(2𝑎𝑥2cos2(𝑥2)+2𝑥2sin(𝑥2)−cos(𝑥2))log(𝑏)2log(𝑐sin2(𝑥)𝑥)+24𝑎𝑏𝑥(2cos(𝑥)−sin(𝑥)𝑥)(2𝑎𝑥2cos2(𝑥2)+2𝑥2sin(𝑥2)−cos(𝑥2))log(𝑏)cos(𝑏𝑥)sin(𝑥)+16𝑎𝑥(2cos(𝑥)−sin(𝑥)𝑥)(−2𝑎2𝑥2cos3(𝑥2)−6𝑎𝑥2sin(𝑥2)cos(𝑥2)+3𝑎cos2(𝑥2)+2𝑥2cos(𝑥2)+3sin(𝑥2))sin(𝑏𝑥)sin(𝑥)+16𝑎𝑥−3⋅(2cos(𝑥)−sin(𝑥)𝑥)cos2(𝑥)sin2(𝑥)−4(sin2(𝑥)−cos2(𝑥)+2sin(𝑥)cos(𝑥)𝑥−sin2(𝑥)𝑥2)cos(𝑥)sin2(𝑥)+4sin(𝑥)cos(𝑥)−3sin2(𝑥)𝑥+3cos2(𝑥)𝑥−6sin(𝑥)cos(𝑥)𝑥2+3sin2(𝑥)𝑥3sin(𝑥)−2cos(𝑥)+2⋅(2cos(𝑥)−sin(𝑥)𝑥)cos(𝑥)𝑥sin(𝑥)+2(sin2(𝑥)−cos2(𝑥)+2sin(𝑥)cos(𝑥)𝑥−sin2(𝑥)𝑥2)𝑥sin(𝑥)+sin(𝑥)𝑥sin(𝑏𝑥)cos(𝑥2)sin(𝑥)−12𝑎(2𝑎𝑥2cos2(𝑥2)+2𝑥2sin(𝑥2)−cos(𝑥2))2⋅(2cos(𝑥)−sin(𝑥)𝑥)cos(𝑥)sin(𝑥)+2(sin2(𝑥)−cos2(𝑥)+2sin(𝑥)cos(𝑥)𝑥−sin2(𝑥)𝑥2)sin(𝑥)−2cos(𝑥)−sin(𝑥)𝑥𝑥sin(𝑏𝑥)sin(𝑥)+4𝑎(4𝑎3𝑥4cos4(𝑥2)+24𝑎2𝑥4sin(𝑥2)cos2(𝑥2)−12𝑎2𝑥2cos3(𝑥2)+12𝑎𝑥4sin2(𝑥2)−16𝑎𝑥4cos2(𝑥2)−36𝑎𝑥2sin(𝑥2)cos(𝑥2)+3𝑎cos2(𝑥2)−4𝑥4sin(𝑥2)+12𝑥2cos(𝑥2)+3sin(𝑥2))log(𝑐sin2(𝑥)𝑥)sin(𝑏𝑥)+6𝑏𝑥(𝑏𝑥sin(𝑏𝑥)−cos(𝑏𝑥))2⋅(2cos(𝑥)−sin(𝑥)𝑥)cos(𝑥)sin(𝑥)+2(sin2(𝑥)−cos2(𝑥)+2sin(𝑥)cos(𝑥)𝑥−sin2(𝑥)𝑥2)sin(𝑥)−2cos(𝑥)−sin(𝑥)𝑥𝑥log(𝑏)2sin(𝑥)−4𝑏𝑥(2cos(𝑥)−sin(𝑥)𝑥)(𝑏2𝑥cos(𝑏𝑥)+3𝑏𝑥sin(𝑏𝑥)−cos(𝑏𝑥))log(𝑏)3sin(𝑥)+𝑏𝑥(𝑏3𝑥sin(𝑏𝑥)−6𝑏2𝑥cos(𝑏𝑥)−7𝑏𝑥sin(𝑏𝑥)+cos(𝑏𝑥))log(𝑏)4log(𝑐sin2(𝑥)𝑥)−8𝑏𝑥−3⋅(2cos(𝑥)−sin(𝑥)𝑥)cos2(𝑥)sin2(𝑥)−4(sin2(𝑥)−cos2(𝑥)+2sin(𝑥)cos(𝑥)𝑥−sin2(𝑥)𝑥2)cos(𝑥)sin2(𝑥)+4sin(𝑥)cos(𝑥)−3sin2(𝑥)𝑥+3cos2(𝑥)𝑥−6sin(𝑥)cos(𝑥)𝑥2+3sin2(𝑥)𝑥3sin(𝑥)−2cos(𝑥)+2⋅(2cos(𝑥)−sin(𝑥)𝑥)cos(𝑥)𝑥sin(𝑥)+2(sin2(𝑥)−cos2(𝑥)+2sin(𝑥)cos(𝑥)𝑥−sin2(𝑥)𝑥2)𝑥sin(𝑥)+sin(𝑥)𝑥log(𝑏)cos(𝑏𝑥)sin(𝑥)−2⋅8⋅(2cos(𝑥)−sin(𝑥)𝑥)cos(𝑥)sin(𝑥)+12⋅(2cos(𝑥)−sin(𝑥)𝑥)cos3(𝑥)sin3(𝑥)+6(sin2(𝑥)−cos2(𝑥)+2sin(𝑥)cos(𝑥)𝑥−sin2(𝑥)𝑥2)sin(𝑥)+18(sin2(𝑥)−cos2(𝑥)+2sin(𝑥)cos(𝑥)𝑥−sin2(𝑥)𝑥2)cos2(𝑥)sin3(𝑥)−6⋅(4sin(𝑥)cos(𝑥)−3sin2(𝑥)𝑥+3cos2(𝑥)𝑥−6sin(𝑥)cos(𝑥)𝑥2+3sin2(𝑥)𝑥3)cos(𝑥)sin2(𝑥)−4(sin2(𝑥)−cos2(𝑥)+4sin(𝑥)cos(𝑥)𝑥−3sin2(𝑥)𝑥2+3cos2(𝑥)𝑥2−6sin(𝑥)cos(𝑥)𝑥3+3sin2(𝑥)𝑥4)sin(𝑥)−3⋅(2cos(𝑥)−sin(𝑥)𝑥)𝑥−9⋅(2cos(𝑥)−sin(𝑥)𝑥)cos2(𝑥)𝑥sin2(𝑥)−12(sin2(𝑥)−cos2(𝑥)+2sin(𝑥)cos(𝑥)𝑥−sin2(𝑥)𝑥2)cos(𝑥)𝑥sin2(𝑥)+3⋅(4sin(𝑥)cos(𝑥)−3sin2(𝑥)𝑥+3cos2(𝑥)𝑥−6sin(𝑥)cos(𝑥)𝑥2+3sin2(𝑥)𝑥3)𝑥sin(𝑥)sin(𝑏𝑥)sin(𝑥)𝑒−𝑎sin(𝑥2)"
   ]
  },
  {
   "cell_type": "code",
   "execution_count": 19,
   "id": "fcef414f",
   "metadata": {},
   "outputs": [],
   "source": [
    "#Now for substituing value in the differentiated function we will use substitute function"
   ]
  },
  {
   "cell_type": "code",
   "execution_count": 20,
   "id": "54567e74",
   "metadata": {},
   "outputs": [],
   "source": [
    "#here we consider x=4, a=1, b=2, c=3 for 4th derivative"
   ]
  },
  {
   "cell_type": "code",
   "execution_count": 21,
   "id": "a0f4fb33",
   "metadata": {},
   "outputs": [
    {
     "data": {
      "text/latex": [
       "$\\displaystyle -73035.8044625845$"
      ],
      "text/plain": [
       "-73035.8044625845"
      ]
     },
     "execution_count": 21,
     "metadata": {},
     "output_type": "execute_result"
    }
   ],
   "source": [
    "d4fdx4.subs([(x,4),(a,1),(b,2),(c,3)]).evalf()"
   ]
  },
  {
   "cell_type": "code",
   "execution_count": 22,
   "id": "ba6a4d90",
   "metadata": {},
   "outputs": [],
   "source": [
    "#Output"
   ]
  },
  {
   "cell_type": "raw",
   "id": "80c608e1",
   "metadata": {},
   "source": [
    "−73035.8044625845"
   ]
  },
  {
   "cell_type": "code",
   "execution_count": null,
   "id": "27f6be73",
   "metadata": {},
   "outputs": [],
   "source": []
  },
  {
   "cell_type": "code",
   "execution_count": 23,
   "id": "3b84d5ea",
   "metadata": {},
   "outputs": [],
   "source": [
    "#Now plotting graph of derivated function"
   ]
  },
  {
   "cell_type": "code",
   "execution_count": 24,
   "id": "8a6680e5",
   "metadata": {},
   "outputs": [],
   "source": [
    "#lets create a x variable which stores each different value in range and jump given"
   ]
  },
  {
   "cell_type": "code",
   "execution_count": 25,
   "id": "7ae489f2",
   "metadata": {},
   "outputs": [],
   "source": [
    "d4fdx4_f=smp.lambdify((x,a,b,c),d4fdx4)"
   ]
  },
  {
   "cell_type": "code",
   "execution_count": 26,
   "id": "bc5916fc",
   "metadata": {},
   "outputs": [],
   "source": [
    "#Converting numerical values by pluggging in numbers"
   ]
  },
  {
   "cell_type": "code",
   "execution_count": 27,
   "id": "2c29e47a",
   "metadata": {},
   "outputs": [],
   "source": [
    "x=np.linspace(1,2,100)"
   ]
  },
  {
   "cell_type": "code",
   "execution_count": 28,
   "id": "34d0306f",
   "metadata": {},
   "outputs": [],
   "source": [
    "#Now assigning value of a=1, b=2, c=3"
   ]
  },
  {
   "cell_type": "code",
   "execution_count": 29,
   "id": "d2142cbd",
   "metadata": {},
   "outputs": [],
   "source": [
    "# Y stores differentiated value"
   ]
  },
  {
   "cell_type": "code",
   "execution_count": 30,
   "id": "e9d86e8f",
   "metadata": {},
   "outputs": [],
   "source": [
    "y=d4fdx4_f(x,a=1,b=2,c=3)"
   ]
  },
  {
   "cell_type": "code",
   "execution_count": 34,
   "id": "2e9fb5dd",
   "metadata": {},
   "outputs": [],
   "source": [
    "#Now plotting the values on x vs differentaied value of x"
   ]
  },
  {
   "cell_type": "code",
   "execution_count": 37,
   "id": "2b6c52d0",
   "metadata": {},
   "outputs": [
    {
     "data": {
      "text/plain": [
       "Text(0.5, 0, '$x$')"
      ]
     },
     "execution_count": 37,
     "metadata": {},
     "output_type": "execute_result"
    },
    {
     "data": {
      "image/png": "[encoded data removed]",
      "text/plain": [
       "<Figure size 640x480 with 1 Axes>"
      ]
     },
     "metadata": {},
     "output_type": "display_data"
    }
   ],
   "source": [
    "plt.plot(x,y)\n",
    "plt.ylabel('$d^4/dx^4$',fontsize=24)\n",
    "plt.xlabel('$x$',fontsize=24)"
   ]
  },
  {
   "cell_type": "code",
   "execution_count": null,
   "id": "66a0f7ea",
   "metadata": {},
   "outputs": [],
   "source": []
  },
  {
   "cell_type": "code",
   "execution_count": null,
   "id": "5d29203a",
   "metadata": {},
   "outputs": [],
   "source": []
  },
  {
   "cell_type": "code",
   "execution_count": null,
   "id": "7e5972af",
   "metadata": {},
   "outputs": [],
   "source": []
  },
  {
   "cell_type": "code",
   "execution_count": null,
   "id": "0c2dff95",
   "metadata": {},
   "outputs": [],
   "source": []
  },
  {
   "cell_type": "code",
   "execution_count": null,
   "id": "0e7c7373",
   "metadata": {},
   "outputs": [],
   "source": []
  },
  {
   "cell_type": "code",
   "execution_count": null,
   "id": "80d5e9d6",
   "metadata": {},
   "outputs": [],
   "source": []
  },
  {
   "cell_type": "code",
   "execution_count": null,
   "id": "7bf69577",
   "metadata": {},
   "outputs": [],
   "source": []
  },
  {
   "cell_type": "code",
   "execution_count": null,
   "id": "2fdbe82c",
   "metadata": {},
   "outputs": [],
   "source": []
  },
  {
   "cell_type": "code",
   "execution_count": null,
   "id": "72c3f13c",
   "metadata": {},
   "outputs": [],
   "source": []
  },
  {
   "cell_type": "code",
   "execution_count": null,
   "id": "29aa6beb",
   "metadata": {},
   "outputs": [],
   "source": []
  }
 ],
 "metadata": {
  "kernelspec": {
   "display_name": "Python 3 (ipykernel)",
   "language": "python",
   "name": "python3"
  },
  "language_info": {
   "codemirror_mode": {
    "name": "ipython",
    "version": 3
   },
   "file_extension": ".py",
   "mimetype": "text/x-python",
   "name": "python",
   "nbconvert_exporter": "python",
   "pygments_lexer": "ipython3",
   "version": "3.9.13"
  }
 },
 "nbformat": 4,
 "nbformat_minor": 5
}
